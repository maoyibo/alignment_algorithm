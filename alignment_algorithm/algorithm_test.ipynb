{
 "cells": [
  {
   "cell_type": "code",
   "execution_count": 21,
   "metadata": {},
   "outputs": [],
   "source": [
    "import sys\n",
    "from pathlib import Path\n",
    "sys.path.append(Path('.').absolute().parent.__str__())\n"
   ]
  },
  {
   "cell_type": "code",
   "execution_count": 22,
   "metadata": {},
   "outputs": [],
   "source": [
    "# seq1 = \"AATCCG\"\n",
    "# seq2 = \"AACG\"\n",
    "# seq1 = 'CTTGACCATG'\n",
    "# seq2 = 'GCATTAGCCGG'\n",
    "seq1 = 'AAAATCGCCCTAC'\n",
    "seq2 = 'TCGTAC'\n"
   ]
  },
  {
   "cell_type": "code",
   "execution_count": 23,
   "metadata": {},
   "outputs": [
    {
     "name": "stdout",
     "output_type": "stream",
     "text": [
      "1    AAAATCGCCCTAC   13\tScore: -8\n",
      "         |||   |||     \n",
      "1    ----TCG---TAC    6\n",
      "221 µs ± 55.3 µs per loop (mean ± std. dev. of 7 runs, 1,000 loops each)\n"
     ]
    }
   ],
   "source": [
    "from alignment_algorithm.needleman_wunsch_numpy import nw_trace_function\n",
    "nw_trace_function(seq1, seq2)\n",
    "%timeit nw_trace_function(seq1, seq2, show_report=False)\n"
   ]
  },
  {
   "cell_type": "code",
   "execution_count": 24,
   "metadata": {},
   "outputs": [
    {
     "name": "stdout",
     "output_type": "stream",
     "text": [
      "1    AAAATCGCCCTAC   13\tScore: -8\n",
      "         |||   |||     \n",
      "0    ----TCG---TAC    6\n",
      "238 µs ± 4.1 µs per loop (mean ± std. dev. of 7 runs, 1,000 loops each)\n"
     ]
    }
   ],
   "source": [
    "from alignment_algorithm.needleman_wunsch_numpy import nw_trace_matrix\n",
    "nw_trace_matrix(seq1, seq2)\n",
    "%timeit nw_trace_matrix(seq1, seq2, show_report=False)\n"
   ]
  },
  {
   "cell_type": "code",
   "execution_count": 25,
   "metadata": {},
   "outputs": [
    {
     "name": "stdout",
     "output_type": "stream",
     "text": [
      "1    AAAATCGCCCTAC   13\tScore: -8\n",
      "         |||   |||     \n",
      "1    ----TCG---TAC    6\n",
      "94.3 µs ± 3.53 µs per loop (mean ± std. dev. of 7 runs, 1,000 loops each)\n"
     ]
    }
   ],
   "source": [
    "from alignment_algorithm.needleman_wunsch import nw_trace_function\n",
    "nw_trace_function(seq1, seq2)\n",
    "%timeit nw_trace_function(seq1, seq2, show_report=False)\n"
   ]
  },
  {
   "cell_type": "code",
   "execution_count": 26,
   "metadata": {},
   "outputs": [
    {
     "name": "stdout",
     "output_type": "stream",
     "text": [
      "1    AAAATCGCCCTAC   13\tScore: -8\n",
      "         |||   |||     \n",
      "0    ----TCG---TAC    6\n",
      "115 µs ± 4.06 µs per loop (mean ± std. dev. of 7 runs, 10,000 loops each)\n"
     ]
    }
   ],
   "source": [
    "from alignment_algorithm.needleman_wunsch import nw_trace_matrix\n",
    "nw_trace_matrix(seq1, seq2)\n",
    "%timeit nw_trace_matrix(seq1, seq2, show_report=False)\n"
   ]
  },
  {
   "cell_type": "code",
   "execution_count": 27,
   "metadata": {},
   "outputs": [
    {
     "name": "stdout",
     "output_type": "stream",
     "text": [
      "5    TCG    7\tScore: 3\n",
      "     |||     \n",
      "1    TCG    3\n",
      "11   TAC   13\tScore: 3\n",
      "     |||     \n",
      "4    TAC    6\n",
      "97.2 µs ± 3.92 µs per loop (mean ± std. dev. of 7 runs, 1,000 loops each)\n"
     ]
    }
   ],
   "source": [
    "from alignment_algorithm.smith_waterman import sw_trace_function\n",
    "sw_trace_function(seq1, seq2)\n",
    "%timeit sw_trace_function(seq1, seq2, show_report=False)\n"
   ]
  },
  {
   "cell_type": "code",
   "execution_count": 28,
   "metadata": {},
   "outputs": [
    {
     "name": "stdout",
     "output_type": "stream",
     "text": [
      "5    TCG    7\tScore: 3\n",
      "     |||     \n",
      "1    TCG    3\n",
      "11   TAC   13\tScore: 3\n",
      "     |||     \n",
      "4    TAC    6\n",
      "113 µs ± 5.15 µs per loop (mean ± std. dev. of 7 runs, 1,000 loops each)\n"
     ]
    }
   ],
   "source": [
    "from alignment_algorithm.smith_waterman import sw_trace_matrix\n",
    "sw_trace_matrix(seq1, seq2)\n",
    "%timeit sw_trace_matrix(seq1, seq2, show_report=False)\n"
   ]
  },
  {
   "cell_type": "code",
   "execution_count": 29,
   "metadata": {},
   "outputs": [
    {
     "name": "stdout",
     "output_type": "stream",
     "text": [
      "1    AAAATCGCCCTAC   13\tScore: -7\n",
      "         |||   |||     \n",
      "1    ----TCG---TAC    6\n",
      "163 µs ± 8.58 µs per loop (mean ± std. dev. of 7 runs, 1,000 loops each)\n"
     ]
    }
   ],
   "source": [
    "from alignment_algorithm.gotoh import gotoh\n",
    "gotoh(seq1, seq2)\n",
    "%timeit gotoh(seq1, seq2, show_report=False)"
   ]
  },
  {
   "cell_type": "code",
   "execution_count": 30,
   "metadata": {},
   "outputs": [
    {
     "name": "stdout",
     "output_type": "stream",
     "text": [
      "5    TCG    7\tScore: 3\n",
      "     |||     \n",
      "1    TCG    3\n",
      "11   TAC   13\tScore: 3\n",
      "     |||     \n",
      "4    TAC    6\n",
      "158 µs ± 5.61 µs per loop (mean ± std. dev. of 7 runs, 1,000 loops each)\n"
     ]
    }
   ],
   "source": [
    "from alignment_algorithm.gotoh_local import gotoh_local\n",
    "gotoh_local(seq1, seq2)\n",
    "%timeit gotoh_local(seq1, seq2, show_report=False)"
   ]
  }
 ],
 "metadata": {
  "interpreter": {
   "hash": "c6857ff261de138606fc9c73c5b2bc3c6b35ee41b7df817f7b6b4f0309a3629c"
  },
  "kernelspec": {
   "display_name": "Python 3.8.10 64-bit ('alignment-algorithm-pvhLCYPL-py3.8': poetry)",
   "language": "python",
   "name": "python3"
  },
  "language_info": {
   "codemirror_mode": {
    "name": "ipython",
    "version": 3
   },
   "file_extension": ".py",
   "mimetype": "text/x-python",
   "name": "python",
   "nbconvert_exporter": "python",
   "pygments_lexer": "ipython3",
   "version": "3.8.10"
  },
  "orig_nbformat": 4
 },
 "nbformat": 4,
 "nbformat_minor": 2
}
